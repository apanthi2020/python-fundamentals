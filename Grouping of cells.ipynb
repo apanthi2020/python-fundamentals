{
 "cells": [
  {
   "cell_type": "code",
   "execution_count": 11,
   "metadata": {},
   "outputs": [],
   "source": [
    "import pandas as pd\n",
    "import numpy as np\n",
    "import matplotlib.pyplot as plt\n",
    "import random as random\n",
    "%matplotlib inline"
   ]
  },
  {
   "cell_type": "markdown",
   "metadata": {},
   "source": [
    "## Grouping of cells"
   ]
  },
  {
   "cell_type": "markdown",
   "metadata": {},
   "source": [
    "- E = emf of each cell\n",
    "\n",
    "- r = Internal resistance of each cell\n",
    "\n",
    "- R = External resistance\n",
    "\n",
    "- m = no. of columns\n",
    "\n",
    "- n = no.  of rows\n",
    "\n",
    "- current  when  cells  in  series\n",
    "\n",
    "$$I_s=\\dfrac{mE}{R+mr}$$\n",
    "\n",
    "- current  when  cells  in  parallel\n",
    "\n",
    "$$I_p=\\dfrac{nE}{nR+r}$$\n",
    "\n",
    "- current  when  cells  in  mixed  grouping\n",
    "\n",
    "$$I_s=\\dfrac{mnE}{nR+mr}$$"
   ]
  },
  {
   "cell_type": "markdown",
   "metadata": {},
   "source": [
    "![img](cells.jpg)"
   ]
  },
  {
   "cell_type": "markdown",
   "metadata": {},
   "source": [
    "- current when cells are in series"
   ]
  },
  {
   "cell_type": "code",
   "execution_count": 12,
   "metadata": {},
   "outputs": [
    {
     "data": {
      "text/plain": [
       "1.935483870967742"
      ]
     },
     "execution_count": 12,
     "metadata": {},
     "output_type": "execute_result"
    }
   ],
   "source": [
    "def cells(E,m,r,R):\n",
    "    Is=m*E/(R+m*r)\n",
    "    return Is\n",
    "cells(12,10,5,12)"
   ]
  },
  {
   "cell_type": "markdown",
   "metadata": {},
   "source": [
    "- current when cells are in parallel"
   ]
  },
  {
   "cell_type": "code",
   "execution_count": 13,
   "metadata": {},
   "outputs": [
    {
     "data": {
      "text/plain": [
       "0.96"
      ]
     },
     "execution_count": 13,
     "metadata": {},
     "output_type": "execute_result"
    }
   ],
   "source": [
    "def cells(E,n,r,R):\n",
    "    Ip=n*E/(n*R+r)\n",
    "    return Ip\n",
    "cells(12,10,5,12)"
   ]
  },
  {
   "cell_type": "markdown",
   "metadata": {},
   "source": [
    "- current when cells are in mixed grouping"
   ]
  },
  {
   "cell_type": "code",
   "execution_count": 14,
   "metadata": {},
   "outputs": [
    {
     "data": {
      "text/plain": [
       "7.0588235294117645"
      ]
     },
     "execution_count": 14,
     "metadata": {},
     "output_type": "execute_result"
    }
   ],
   "source": [
    "def cells(E,m,n,r,R):\n",
    "    Im=m*n*E/(n*R+m*r)\n",
    "    return Im\n",
    "cells(12,10,10,5,12)"
   ]
  },
  {
   "cell_type": "code",
   "execution_count": 21,
   "metadata": {},
   "outputs": [],
   "source": [
    "class groupingcells():\n",
    "    def __init__(self,E,m,n,r,R):\n",
    "        self.E=E\n",
    "        self.m=m\n",
    "        self.n=n\n",
    "        self.r=r\n",
    "        \n",
    "    def currents(self,R):\n",
    "        Is=self.m*self.E/(R+self.m*self.r)\n",
    "        return Is\n",
    "    \n",
    "    def currentp(self,R):\n",
    "        Ip=self.n*self.E/(self.n*R+self.r)\n",
    "        return Ip\n",
    "    \n",
    "    def currentm(self,R):\n",
    "        Im=self.m*self.n*self.E/(self.n*R+self.m*self.r)\n",
    "        return Im     "
   ]
  },
  {
   "cell_type": "code",
   "execution_count": 22,
   "metadata": {},
   "outputs": [
    {
     "name": "stdout",
     "output_type": "stream",
     "text": [
      "1.935483870967742\n",
      "0.96\n",
      "7.0588235294117645\n"
     ]
    }
   ],
   "source": [
    "GC=groupingcells(E=12,m=10,n=10,r=5,R=12)\n",
    "print(GC.currents(12))\n",
    "print(GC.currentp(12))\n",
    "print(GC.currentm(12))"
   ]
  },
  {
   "cell_type": "code",
   "execution_count": 25,
   "metadata": {},
   "outputs": [],
   "source": [
    "E=12 # Emf of cell\n",
    "X=[]# Empty list for External resistance\n",
    "r=5 #internal Resistance of a cell\n",
    "Is=[]# Empty list for current when cells in series\n",
    "Ip=[] # Empty list for current when cells in parallel\n",
    "Im=[] # Empty list for current when cells in mixed grouping\n",
    "for R in range (25): # variation of external resistance\n",
    "    aa=GC.currents(R) # current when cells in series\n",
    "    bb=GC.currentp(R) # current when cells in parallel\n",
    "    cc=GC.currentm(R) # current when cells in mixed grouping\n",
    "    X.append(R)\n",
    "    Is.append(aa)\n",
    "    Ip.append(bb)\n",
    "    Im.append(cc)\n",
    "    #print(X)\n",
    "    #print(Is)\n",
    "    #print(Ip)\n",
    "    #print(Im)"
   ]
  },
  {
   "cell_type": "code",
   "execution_count": 30,
   "metadata": {},
   "outputs": [],
   "source": [
    "data={} #create an empty list\n",
    "data.update({\"Resistance\":X, \"SeriesCurrent\":Is, \"ParallelCurrent\": Ip,\"MixedCurrent\":Im}) #update above information with Rename\n",
    "#print(data)"
   ]
  },
  {
   "cell_type": "code",
   "execution_count": 31,
   "metadata": {},
   "outputs": [],
   "source": [
    "import pandas as pd\n",
    "DF=pd.DataFrame(data)  \n",
    "#print(DF)"
   ]
  },
  {
   "cell_type": "code",
   "execution_count": 32,
   "metadata": {},
   "outputs": [],
   "source": [
    "DF.to_csv('Cells_variable.csv')"
   ]
  },
  {
   "cell_type": "code",
   "execution_count": 34,
   "metadata": {},
   "outputs": [
    {
     "data": {
      "text/html": [
       "<div>\n",
       "<style scoped>\n",
       "    .dataframe tbody tr th:only-of-type {\n",
       "        vertical-align: middle;\n",
       "    }\n",
       "\n",
       "    .dataframe tbody tr th {\n",
       "        vertical-align: top;\n",
       "    }\n",
       "\n",
       "    .dataframe thead th {\n",
       "        text-align: right;\n",
       "    }\n",
       "</style>\n",
       "<table border=\"1\" class=\"dataframe\">\n",
       "  <thead>\n",
       "    <tr style=\"text-align: right;\">\n",
       "      <th></th>\n",
       "      <th>Unnamed: 0</th>\n",
       "      <th>Resistance</th>\n",
       "      <th>SeriesCurrent</th>\n",
       "      <th>ParallelCurrent</th>\n",
       "      <th>MixedCurrent</th>\n",
       "    </tr>\n",
       "  </thead>\n",
       "  <tbody>\n",
       "    <tr>\n",
       "      <th>0</th>\n",
       "      <td>0</td>\n",
       "      <td>0</td>\n",
       "      <td>2.400000</td>\n",
       "      <td>24.000000</td>\n",
       "      <td>24.000000</td>\n",
       "    </tr>\n",
       "    <tr>\n",
       "      <th>1</th>\n",
       "      <td>1</td>\n",
       "      <td>1</td>\n",
       "      <td>2.352941</td>\n",
       "      <td>8.000000</td>\n",
       "      <td>20.000000</td>\n",
       "    </tr>\n",
       "    <tr>\n",
       "      <th>2</th>\n",
       "      <td>2</td>\n",
       "      <td>2</td>\n",
       "      <td>2.307692</td>\n",
       "      <td>4.800000</td>\n",
       "      <td>17.142857</td>\n",
       "    </tr>\n",
       "    <tr>\n",
       "      <th>3</th>\n",
       "      <td>3</td>\n",
       "      <td>3</td>\n",
       "      <td>2.264151</td>\n",
       "      <td>3.428571</td>\n",
       "      <td>15.000000</td>\n",
       "    </tr>\n",
       "    <tr>\n",
       "      <th>4</th>\n",
       "      <td>4</td>\n",
       "      <td>4</td>\n",
       "      <td>2.222222</td>\n",
       "      <td>2.666667</td>\n",
       "      <td>13.333333</td>\n",
       "    </tr>\n",
       "  </tbody>\n",
       "</table>\n",
       "</div>"
      ],
      "text/plain": [
       "   Unnamed: 0  Resistance  SeriesCurrent  ParallelCurrent  MixedCurrent\n",
       "0           0           0       2.400000        24.000000     24.000000\n",
       "1           1           1       2.352941         8.000000     20.000000\n",
       "2           2           2       2.307692         4.800000     17.142857\n",
       "3           3           3       2.264151         3.428571     15.000000\n",
       "4           4           4       2.222222         2.666667     13.333333"
      ]
     },
     "execution_count": 34,
     "metadata": {},
     "output_type": "execute_result"
    }
   ],
   "source": [
    "df=pd.read_csv('Cells_variable.csv')\n",
    "df.head() #head mean title eg; Resistance, SeriesCurrent."
   ]
  },
  {
   "cell_type": "code",
   "execution_count": 35,
   "metadata": {},
   "outputs": [],
   "source": [
    "import matplotlib.pyplot as plt\n",
    "%matplotlib inline"
   ]
  },
  {
   "cell_type": "code",
   "execution_count": 37,
   "metadata": {},
   "outputs": [
    {
     "data": {
      "image/png": "[encoded data removed]",
      "text/plain": [
       "<Figure size 432x288 with 1 Axes>"
      ]
     },
     "metadata": {
      "needs_background": "light"
     },
     "output_type": "display_data"
    }
   ],
   "source": [
    "plt.plot(df.Resistance, df.SeriesCurrent,'-o',color='r',label='Series Current',lw=1) #lw= line width\n",
    "plt.plot(df.Resistance, df.ParallelCurrent,'-*',color='b',label='Parallel Current',lw=1)\n",
    "plt.plot(df.Resistance, df.MixedCurrent,'-^',color='g',label='Mixed Current',lw=1)\n",
    "plt.xlabel(\"Load Resistance(Ohm)\")\n",
    "plt.ylabel(\"Currents(A)\")\n",
    "plt.legend()\n",
    "plt.title(\"Variation of Current in Grouping of Cells\")\n",
    "plt.grid(True)"
   ]
  },
  {
   "cell_type": "code",
   "execution_count": null,
   "metadata": {},
   "outputs": [],
   "source": []
  }
 ],
 "metadata": {
  "kernelspec": {
   "display_name": "Python 3",
   "language": "python",
   "name": "python3"
  },
  "language_info": {
   "codemirror_mode": {
    "name": "ipython",
    "version": 3
   },
   "file_extension": ".py",
   "mimetype": "text/x-python",
   "name": "python",
   "nbconvert_exporter": "python",
   "pygments_lexer": "ipython3",
   "version": "3.7.6"
  }
 },
 "nbformat": 4,
 "nbformat_minor": 4
}
